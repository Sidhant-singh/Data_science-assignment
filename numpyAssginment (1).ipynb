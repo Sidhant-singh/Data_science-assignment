{
 "cells": [
  {
   "cell_type": "code",
   "execution_count": 2,
   "id": "31d53d14-3cc6-4fe6-8604-ec17a20755b0",
   "metadata": {},
   "outputs": [
    {
     "name": "stdout",
     "output_type": "stream",
     "text": [
      "<class 'list'>\n",
      "<class 'numpy.ndarray'>\n"
     ]
    }
   ],
   "source": [
    "import numpy as np\n",
    "\n",
    "# Given code\n",
    "list_ = ['1', '2', '3', '4', '5']\n",
    "array_list = np.array(object=list_)\n",
    "\n",
    "# Q1: Difference in data types\n",
    "print(type(list_))\n",
    "print(type(array_list))\n",
    "##yes they both have different datatype as list_ can have different datatype i.e string in this case.\n",
    "##while array_list is numpy array and have fixed datatypes."
   ]
  },
  {
   "cell_type": "code",
   "execution_count": 3,
   "id": "4444e8e3-5289-4e87-b061-3837cdd31bf7",
   "metadata": {},
   "outputs": [
    {
     "name": "stdout",
     "output_type": "stream",
     "text": [
      "Data types of elements in list_:\n",
      "<class 'str'>\n",
      "<class 'str'>\n",
      "<class 'str'>\n",
      "<class 'str'>\n",
      "<class 'str'>\n",
      "Data types of elements in array_list:\n",
      "<class 'numpy.str_'>\n",
      "<class 'numpy.str_'>\n",
      "<class 'numpy.str_'>\n",
      "<class 'numpy.str_'>\n",
      "<class 'numpy.str_'>\n"
     ]
    }
   ],
   "source": [
    "# Q2: Data type of each element\n",
    "print(\"Data types of elements in list_:\")\n",
    "for element in list_:\n",
    "    print(type(element))\n",
    "\n",
    "print(\"Data types of elements in array_list:\")\n",
    "for element in array_list:\n",
    "    print(type(element))\n"
   ]
  },
  {
   "cell_type": "code",
   "execution_count": 4,
   "id": "b748d141-5fb6-454c-b349-68b335aa08b3",
   "metadata": {},
   "outputs": [
    {
     "name": "stdout",
     "output_type": "stream",
     "text": [
      "Data types of elements in updated array_list:\n",
      "<class 'numpy.int64'>\n",
      "<class 'numpy.int64'>\n",
      "<class 'numpy.int64'>\n",
      "<class 'numpy.int64'>\n",
      "<class 'numpy.int64'>\n"
     ]
    }
   ],
   "source": [
    "# Q3: Difference in data types after updating array_list\n",
    "array_list = np.array(object=list_, dtype=int)\n",
    "print(\"Data types of elements in updated array_list:\")\n",
    "for element in array_list:\n",
    "    print(type(element))"
   ]
  },
  {
   "cell_type": "code",
   "execution_count": 5,
   "id": "f6186a20-bf16-4a73-8efc-b7822708df35",
   "metadata": {},
   "outputs": [
    {
     "data": {
      "text/plain": [
       "6"
      ]
     },
     "execution_count": 5,
     "metadata": {},
     "output_type": "execute_result"
    }
   ],
   "source": [
    "#Q4: finding the shape and size\n",
    "num_list = [[1, 2, 3], [4, 5, 6]]\n",
    "num_array = np.array(object=num_list)\n",
    "np.shape(num_array)\n",
    "np.size(num_array)\n"
   ]
  },
  {
   "cell_type": "code",
   "execution_count": 6,
   "id": "391cac6a-8b58-4051-8310-139f67d9f5ff",
   "metadata": {},
   "outputs": [
    {
     "data": {
      "text/plain": [
       "array([[0., 0., 0.],\n",
       "       [0., 0., 0.],\n",
       "       [0., 0., 0.]])"
      ]
     },
     "execution_count": 6,
     "metadata": {},
     "output_type": "execute_result"
    }
   ],
   "source": [
    "#Q5 creating a numpy array 3*3 contaning zeroes .\n",
    "arr1=np.zeros((3,3))\n",
    "arr1"
   ]
  },
  {
   "cell_type": "code",
   "execution_count": 7,
   "id": "0c18fc9f-3aad-4704-842d-44eacfc8f871",
   "metadata": {},
   "outputs": [
    {
     "data": {
      "text/plain": [
       "array([[1., 0., 0., 0., 0.],\n",
       "       [0., 1., 0., 0., 0.],\n",
       "       [0., 0., 1., 0., 0.],\n",
       "       [0., 0., 0., 1., 0.],\n",
       "       [0., 0., 0., 0., 1.]])"
      ]
     },
     "execution_count": 7,
     "metadata": {},
     "output_type": "execute_result"
    }
   ],
   "source": [
    "#Q6 creating an identity matrix of (5*5) using numpy function\n",
    "arr2 = np.eye(5)\n",
    "arr2\n"
   ]
  },
  {
   "cell_type": "code",
   "execution_count": null,
   "id": "aea0dbf6-4b08-48be-9b93-c7be406dc9c6",
   "metadata": {},
   "outputs": [],
   "source": []
  }
 ],
 "metadata": {
  "kernelspec": {
   "display_name": "Python 3 (ipykernel)",
   "language": "python",
   "name": "python3"
  },
  "language_info": {
   "codemirror_mode": {
    "name": "ipython",
    "version": 3
   },
   "file_extension": ".py",
   "mimetype": "text/x-python",
   "name": "python",
   "nbconvert_exporter": "python",
   "pygments_lexer": "ipython3",
   "version": "3.10.8"
  }
 },
 "nbformat": 4,
 "nbformat_minor": 5
}
