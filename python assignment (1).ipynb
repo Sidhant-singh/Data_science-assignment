{
 "cells": [
  {
   "cell_type": "code",
   "execution_count": 14,
   "id": "a0093b0d-71e2-4478-b921-24a1e27bad97",
   "metadata": {},
   "outputs": [],
   "source": [
    "##Q1\n",
    "l = [('Sachin Tendulkar', 34357), ('Ricky Ponting', 27483), ('Jack Kallis', 25534), ('Virat Kohli', 24936)]\n",
    "b = lambda a : a.sort()"
   ]
  },
  {
   "cell_type": "code",
   "execution_count": 15,
   "id": "309a2e70-d722-4986-9eb7-6a74d72a62c2",
   "metadata": {},
   "outputs": [],
   "source": [
    "b(l)"
   ]
  },
  {
   "cell_type": "code",
   "execution_count": 18,
   "id": "538b85dc-8ca5-4e01-922f-1abedb71c7ea",
   "metadata": {},
   "outputs": [
    {
     "data": {
      "text/plain": [
       "[1, 4, 9, 16, 25, 36, 49, 64, 81, 100]"
      ]
     },
     "execution_count": 18,
     "metadata": {},
     "output_type": "execute_result"
    }
   ],
   "source": [
    "##Q2 \n",
    "l1 = [1, 2, 3, 4, 5, 6, 7, 8, 9, 10]\n",
    "list(map(lambda a : a**2 ,l1))"
   ]
  },
  {
   "cell_type": "code",
   "execution_count": 21,
   "id": "88ec6f20-05ae-44fd-bde4-a01b0a7085a0",
   "metadata": {},
   "outputs": [
    {
     "data": {
      "text/plain": [
       "['1', '2', '3', '4', '5', '6', '7', '8', '9', '10']"
      ]
     },
     "execution_count": 21,
     "metadata": {},
     "output_type": "execute_result"
    }
   ],
   "source": [
    "##Q3 \n",
    "l2 = [1, 2, 3, 4, 5, 6, 7, 8, 9, 10]\n",
    "list(map(lambda i : str(i),l2))"
   ]
  },
  {
   "cell_type": "code",
   "execution_count": 24,
   "id": "ba0d181f-843b-4f62-bd06-93a0a267fa27",
   "metadata": {},
   "outputs": [],
   "source": [
    "##Q4\n",
    "l3 = []\n",
    "for i in range(1,26):\n",
    "    l3.append(i)"
   ]
  },
  {
   "cell_type": "code",
   "execution_count": 26,
   "id": "8bfd652b-b49f-4b6c-89f8-684239e24dfc",
   "metadata": {},
   "outputs": [
    {
     "name": "stdout",
     "output_type": "stream",
     "text": [
      "[1, 2, 3, 4, 5, 6, 7, 8, 9, 10, 11, 12, 13, 14, 15, 16, 17, 18, 19, 20, 21, 22, 23, 24, 25]\n"
     ]
    }
   ],
   "source": [
    "print(l3)"
   ]
  },
  {
   "cell_type": "code",
   "execution_count": 29,
   "id": "33da6a1e-431e-4e10-85c2-f603799a1e64",
   "metadata": {},
   "outputs": [
    {
     "data": {
      "text/plain": [
       "15511210043330985984000000"
      ]
     },
     "execution_count": 29,
     "metadata": {},
     "output_type": "execute_result"
    }
   ],
   "source": [
    "from functools import reduce\n",
    "reduce(lambda x,y : x*y ,l3)"
   ]
  },
  {
   "cell_type": "code",
   "execution_count": 31,
   "id": "5bb88f18-11f9-4d57-9b66-fe24774b47bf",
   "metadata": {},
   "outputs": [
    {
     "data": {
      "text/plain": [
       "[6, 60, 90, 120]"
      ]
     },
     "execution_count": 31,
     "metadata": {},
     "output_type": "execute_result"
    }
   ],
   "source": [
    "##Q5 \n",
    "l4 = [2, 3, 6, 9, 27, 60, 90, 120, 55, 46]\n",
    "list(filter(lambda x : x%2 == 0 and x%3 == 0 ,l4))"
   ]
  },
  {
   "cell_type": "code",
   "execution_count": 35,
   "id": "146647e5-b346-4894-b322-233e6e133701",
   "metadata": {},
   "outputs": [
    {
     "data": {
      "text/plain": [
       "['php', 'aba', 'radar', 'level']"
      ]
     },
     "execution_count": 35,
     "metadata": {},
     "output_type": "execute_result"
    }
   ],
   "source": [
    "##Q6\n",
    "a = ['python', 'php', 'aba', 'radar', 'level']\n",
    "list(filter(lambda b :  b == b[::-1] , a))"
   ]
  },
  {
   "cell_type": "code",
   "execution_count": null,
   "id": "7681420c-fe2b-453c-bdb0-06ca8c1096a5",
   "metadata": {},
   "outputs": [],
   "source": []
  }
 ],
 "metadata": {
  "kernelspec": {
   "display_name": "Python 3 (ipykernel)",
   "language": "python",
   "name": "python3"
  },
  "language_info": {
   "codemirror_mode": {
    "name": "ipython",
    "version": 3
   },
   "file_extension": ".py",
   "mimetype": "text/x-python",
   "name": "python",
   "nbconvert_exporter": "python",
   "pygments_lexer": "ipython3",
   "version": "3.10.8"
  }
 },
 "nbformat": 4,
 "nbformat_minor": 5
}
