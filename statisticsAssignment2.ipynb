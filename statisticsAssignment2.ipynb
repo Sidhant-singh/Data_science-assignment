{
 "cells": [
  {
   "cell_type": "markdown",
   "metadata": {},
   "source": [
    "Q1. The three measures of central tendency are:\n",
    "\n",
    "Mean: The mean is calculated by summing up all the values in a dataset and dividing by the total number of values. It represents the average value of the dataset.\n",
    "\n",
    "Median: The median is the middle value in a dataset when the values are arranged in ascending or descending order. If there is an even number of values, the median is the average of the two middle values. The median represents the middle value of the dataset and is less affected by extreme values than the mean.\n",
    "\n",
    "Mode: The mode is the value that appears most frequently in a dataset. It represents the most common value or values in the dataset.\n",
    "\n",
    "\n",
    "\n",
    "Q2. The main differences between mean, median, and mode are:\n",
    "\n",
    "Mean: The mean is the sum of all the values in a dataset divided by the total number of values. It is sensitive to extreme values (outliers) and tends to be affected by them.\n",
    "\n",
    "Median: The median is the middle value in a dataset when the values are arranged in order. It is less affected by extreme values compared to the mean. It represents the central value of the dataset.\n",
    "\n",
    "Mode: The mode is the value that occurs most frequently in a dataset. Unlike the mean and median, the mode can be applied to categorical data as well. It represents the most common value or values in the dataset.\n",
    "\n",
    "These measures are used to measure the central tendency of a dataset by providing a single representative value that summarizes the entire dataset. Depending on the distribution of the data and the presence of outliers, one measure may be more appropriate than the others.\n",
    "\n",
    "\n",
    "\n"
   ]
  },
  {
   "cell_type": "code",
   "execution_count": 1,
   "metadata": {},
   "outputs": [],
   "source": [
    "# Q3\n",
    "import numpy as np\n",
    "lst = [178,177,176,177,178.2,178,175,179,180,175,178.9,176.2,177,172.5,178,176.5];"
   ]
  },
  {
   "cell_type": "code",
   "execution_count": 3,
   "metadata": {},
   "outputs": [
    {
     "data": {
      "text/plain": [
       "177.01875"
      ]
     },
     "execution_count": 3,
     "metadata": {},
     "output_type": "execute_result"
    }
   ],
   "source": [
    "#mean\n",
    "np.mean(lst)"
   ]
  },
  {
   "cell_type": "code",
   "execution_count": 4,
   "metadata": {},
   "outputs": [
    {
     "data": {
      "text/plain": [
       "177.0"
      ]
     },
     "execution_count": 4,
     "metadata": {},
     "output_type": "execute_result"
    }
   ],
   "source": [
    "# median\n",
    "np.median(lst)"
   ]
  },
  {
   "cell_type": "code",
   "execution_count": 5,
   "metadata": {},
   "outputs": [
    {
     "data": {
      "text/plain": [
       "178"
      ]
     },
     "execution_count": 5,
     "metadata": {},
     "output_type": "execute_result"
    }
   ],
   "source": [
    "# mode\n",
    "import statistics as st\n",
    "st.mode(lst)"
   ]
  },
  {
   "cell_type": "code",
   "execution_count": 6,
   "metadata": {},
   "outputs": [
    {
     "data": {
      "text/plain": [
       "1.7885814036548633"
      ]
     },
     "execution_count": 6,
     "metadata": {},
     "output_type": "execute_result"
    }
   ],
   "source": [
    "# Q4\n",
    "# standard deviation \n",
    "lst1 = [178,177,176,177,178.2,178,175,179,180,175,178.9,176.2,177,172.5,178,176.5];\n",
    "np.std(lst1)"
   ]
  },
  {
   "cell_type": "markdown",
   "metadata": {},
   "source": [
    "Q5\n",
    "1.Range: The range is the simplest measure of dispersion and represents the difference between the maximum and minimum values in a dataset. It gives a rough idea of the spread of the dataset but doesn't consider the distribution of values between the extremes.\n",
    "\n",
    "Example: Consider a dataset of exam scores for a class of students:\n",
    "\n",
    "Scores: 65, 70, 75, 80, 85\n",
    "\n",
    "Range = Maximum score - Minimum score\n",
    "= 85 - 65\n",
    "= 20\n",
    "\n",
    "The range of the exam scores is 20.\n",
    "\n",
    "2.Variance: Variance measures how much the values in a dataset deviate from the mean. It is calculated by taking the average of the squared differences between each value and the mean. A higher variance indicates greater variability in the dataset.\n",
    "\n",
    "Example: Continuing with the exam scores dataset:\n",
    "\n",
    "Mean score = (65 + 70 + 75 + 80 + 85) / 5\n",
    "= 375 / 5\n",
    "= 75\n",
    "\n",
    "Squared differences from the mean:\n",
    "(65 - 75)^2 = 100\n",
    "(70 - 75)^2 = 25\n",
    "(75 - 75)^2 = 0\n",
    "(80 - 75)^2 = 25\n",
    "(85 - 75)^2 = 100\n",
    "\n",
    "Variance = (100 + 25 + 0 + 25 + 100) / 5\n",
    "= 250 / 5\n",
    "= 50\n",
    "\n",
    "The variance of the exam scores is 50.\n",
    "\n",
    "3.Standard Deviation: Standard deviation is the square root of the variance. It provides a measure of the average deviation of each value from the mean. A higher standard deviation indicates greater variability in the dataset.\n",
    "\n",
    "Example: Using the same exam scores dataset:\n",
    "\n",
    "Standard deviation = √Variance\n",
    "= √50\n",
    "≈ 7.07\n",
    "\n",
    "The standard deviation of the exam scores is approximately 7.07.\n",
    "\n",
    "These measures of dispersion help to quantify the spread of a dataset around its central tendency, providing insights into the variability of the data points."
   ]
  },
  {
   "cell_type": "markdown",
   "metadata": {},
   "source": [
    "Q6\n",
    "A Venn diagram is a visual representation of the relationships between different sets of data. \n",
    "It consists of overlapping circles or other shapes, each representing a set. The overlapping areas represent \n",
    "elements that are common to multiple sets, while the non-overlapping areas represent elements unique to each set."
   ]
  },
  {
   "cell_type": "markdown",
   "metadata": {},
   "source": [
    "Q7\n",
    "(i) A ∩ B (Intersection): {2, 6}\n",
    "(ii) A ⋃ B (Union): {0, 2, 3, 4, 5, 6, 7, 8, 10}"
   ]
  },
  {
   "cell_type": "markdown",
   "metadata": {},
   "source": [
    "Q8\n",
    "Skewness in data refers to the lack of symmetry in its distribution. It indicates the degree of asymmetry of the probability distribution of a real-valued random variable about its mean. A dataset can be positively skewed (skewed to the right), negatively skewed (skewed to the left), or have zero skewness (symmetric)."
   ]
  },
  {
   "cell_type": "markdown",
   "metadata": {},
   "source": [
    "Q9\n",
    "In a right-skewed distribution, the tail on the right side is longer or fatter than the tail on the left side, and the majority of the data values lie to the left of the mean. Therefore, in a right-skewed distribution, the median will be less than the mean."
   ]
  },
  {
   "cell_type": "markdown",
   "metadata": {},
   "source": [
    "Q10\n",
    "Covariance measures the extent to which two variables change together. It indicates the direction of the linear relationship between variables but does not provide information about the strength or scale of the relationship.\n",
    "Correlation, on the other hand, is a standardized measure of the relationship between two variables. It ranges from -1 to +1, where -1 indicates a perfect negative linear relationship, +1 indicates a perfect positive linear relationship, and 0 indicates no linear relationship.\n",
    "Covariance and correlation are used to analyze the relationship between two variables in statistical analysis, helping to understand how changes in one variable affect the other and to what extent."
   ]
  },
  {
   "cell_type": "markdown",
   "metadata": {},
   "source": [
    "Q11\n",
    "The formula for calculating the sample mean (average) is:\n",
    "Sample Mean (x̄) = (Sum of all values) / (Number of values)\n",
    "Example: Consider a dataset: {10, 15, 20, 25, 30}\n",
    "Sample Mean = (10 + 15 + 20 + 25 + 30) / 5\n",
    "= 100 / 5\n",
    "= 20"
   ]
  },
  {
   "cell_type": "markdown",
   "metadata": {},
   "source": [
    "Q12\n",
    "For a normal distribution, the mean, median, and mode are all equal and located at the center of the distribution. This is a key characteristic of a symmetric distribution."
   ]
  },
  {
   "cell_type": "markdown",
   "metadata": {},
   "source": [
    "Q13\n",
    "Covariance measures the direction of the linear relationship between two variables but does not indicate the strength or scale of the relationship. Correlation, on the other hand, is a standardized measure that not only indicates the direction but also the strength and scale of the linear relationship between two variables. Covariance values are not standardized, while correlation values are standardized to range between -1 and +1."
   ]
  },
  {
   "cell_type": "markdown",
   "metadata": {},
   "source": [
    "Q14\n",
    "Outliers can significantly affect measures of central tendency, such as the mean, by pulling the center of the distribution toward themselves. This effect can distort the true average of the dataset. However, measures like the median and mode are less affected by outliers.\n",
    "Outliers can also impact measures of dispersion, such as the range, variance, and standard deviation, by increasing the spread of the data. Extreme values can inflate these measures, making the spread appear larger than it actually is.\n",
    "Example: Consider a dataset of income for a group of people where most individuals earn around $50,000 per year, but one person earns $1,000,000. The mean income would be significantly higher due to the outlier, while the median income would remain relatively unchanged. Similarly, the range and standard deviation would increase, reflecting the increased spread caused by the outlier."
   ]
  }
 ],
 "metadata": {
  "kernelspec": {
   "display_name": "Python 3",
   "language": "python",
   "name": "python3"
  },
  "language_info": {
   "codemirror_mode": {
    "name": "ipython",
    "version": 3
   },
   "file_extension": ".py",
   "mimetype": "text/x-python",
   "name": "python",
   "nbconvert_exporter": "python",
   "pygments_lexer": "ipython3",
   "version": "3.11.5"
  }
 },
 "nbformat": 4,
 "nbformat_minor": 2
}
