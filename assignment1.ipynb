{
 "cells": [
  {
   "cell_type": "code",
   "execution_count": 1,
   "id": "82eb4323-d317-48d1-8c28-d1147599ebcc",
   "metadata": {},
   "outputs": [
    {
     "name": "stdout",
     "output_type": "stream",
     "text": [
      "<class 'str'>\n"
     ]
    }
   ],
   "source": [
    "a = \"pw skills\"\n",
    "print(type(a))"
   ]
  },
  {
   "cell_type": "code",
   "execution_count": 3,
   "id": "e388ef54-e0a4-4cde-8eb9-ddbfe3dd6bd5",
   "metadata": {},
   "outputs": [
    {
     "data": {
      "text/plain": [
       "float"
      ]
     },
     "execution_count": 3,
     "metadata": {},
     "output_type": "execute_result"
    }
   ],
   "source": [
    "b = 22.99\n",
    "c = float(b)\n",
    "type(c)"
   ]
  },
  {
   "cell_type": "code",
   "execution_count": 4,
   "id": "2f66da87-008e-4030-9970-048d02761c55",
   "metadata": {},
   "outputs": [
    {
     "data": {
      "text/plain": [
       "list"
      ]
     },
     "execution_count": 4,
     "metadata": {},
     "output_type": "execute_result"
    }
   ],
   "source": [
    "li1 = [1,2,\"physics\",\"wallah\"]\n",
    "type(li1)"
   ]
  },
  {
   "cell_type": "code",
   "execution_count": 5,
   "id": "c43fa46a-d6c7-4096-a518-2b73a44dbe18",
   "metadata": {},
   "outputs": [
    {
     "data": {
      "text/plain": [
       "tuple"
      ]
     },
     "execution_count": 5,
     "metadata": {},
     "output_type": "execute_result"
    }
   ],
   "source": [
    "tup=(1,2,3,4)\n",
    "type(tup)"
   ]
  },
  {
   "cell_type": "code",
   "execution_count": null,
   "id": "8f2de84f-19f9-41ab-bbc2-6c27e2b83c2c",
   "metadata": {},
   "outputs": [],
   "source": [
    "'''Q2 \n",
    "1.string datatype\n",
    "2.error\n",
    "3.list datatype\n",
    "4.string datatype"
   ]
  },
  {
   "cell_type": "code",
   "execution_count": 20,
   "id": "0af45e74-389d-4865-b9ee-4427858dee6d",
   "metadata": {},
   "outputs": [
    {
     "data": {
      "text/plain": [
       "2.0"
      ]
     },
     "execution_count": 20,
     "metadata": {},
     "output_type": "execute_result"
    }
   ],
   "source": [
    "#Q3\n",
    "4/2 # it will return the value with in floating variables."
   ]
  },
  {
   "cell_type": "code",
   "execution_count": 11,
   "id": "076d3c79-88af-4388-b2d4-2a169440bfde",
   "metadata": {},
   "outputs": [
    {
     "data": {
      "text/plain": [
       "0"
      ]
     },
     "execution_count": 11,
     "metadata": {},
     "output_type": "execute_result"
    }
   ],
   "source": [
    "4%2 # it will return the remainder while dividing two variables."
   ]
  },
  {
   "cell_type": "code",
   "execution_count": 21,
   "id": "b6eee0ba-1d91-404d-b664-a2ffcaf89837",
   "metadata": {},
   "outputs": [
    {
     "data": {
      "text/plain": [
       "1"
      ]
     },
     "execution_count": 21,
     "metadata": {},
     "output_type": "execute_result"
    }
   ],
   "source": [
    "3//2 # it will divide and return the answer in nearest whole integers\n"
   ]
  },
  {
   "cell_type": "code",
   "execution_count": 13,
   "id": "7f7df86f-dcff-4990-847d-271836b3e387",
   "metadata": {},
   "outputs": [
    {
     "data": {
      "text/plain": [
       "16"
      ]
     },
     "execution_count": 13,
     "metadata": {},
     "output_type": "execute_result"
    }
   ],
   "source": [
    "4**2 # it will give the square of a given no."
   ]
  },
  {
   "cell_type": "code",
   "execution_count": 18,
   "id": "c3788577-5b31-4a28-8491-92b09f9f90b4",
   "metadata": {},
   "outputs": [
    {
     "name": "stdout",
     "output_type": "stream",
     "text": [
      "1\n",
      "<class 'int'>\n",
      "2\n",
      "<class 'int'>\n",
      "sidd\n",
      "<class 'str'>\n",
      "[3, 4, 5]\n",
      "<class 'list'>\n",
      "s\n",
      "<class 'str'>\n",
      "(6, 7, 8)\n",
      "<class 'tuple'>\n",
      "22.7\n",
      "<class 'float'>\n",
      "90\n",
      "<class 'int'>\n",
      "30\n",
      "<class 'int'>\n",
      "pw skilld\n",
      "<class 'str'>\n"
     ]
    }
   ],
   "source": [
    "l1 = [1,2,\"sidd\",[3,4,5],\"s\",(6,7,8),22.7,90,30,\"pw skilld\"]\n",
    "for i in range(0,len(l1)):\n",
    "    c = l1[i]\n",
    "    #print(l1[i])\n",
    "    print(c)\n",
    "    print(type(c))"
   ]
  },
  {
   "cell_type": "code",
   "execution_count": 22,
   "id": "94dd1e58-dcf3-48bc-91f7-fb58fef8f57e",
   "metadata": {},
   "outputs": [
    {
     "name": "stdin",
     "output_type": "stream",
     "text": [
      "enter 1st 10\n",
      "enter 2nd 2\n"
     ]
    },
    {
     "name": "stdout",
     "output_type": "stream",
     "text": [
      "10 is divisible by b in 5 times\n"
     ]
    }
   ],
   "source": [
    "#Q5 \n",
    "a = int(input(\"enter 1st\"))\n",
    "b = int(input(\"enter 2nd\"))\n",
    "if (a%b == 0):\n",
    "    c = a//b\n",
    "    print(a ,\"is divisible by\", b ,in\",c,\"times\") "
   ]
  },
  {
   "cell_type": "code",
   "execution_count": 28,
   "id": "e4fe6b8a-b240-4ddc-8de2-16871ccc20e2",
   "metadata": {},
   "outputs": [
    {
     "name": "stdin",
     "output_type": "stream",
     "text": [
      "enter no. 5\n",
      "enter no. 4\n",
      "enter no. 8\n",
      "enter no. 9\n",
      "enter no. 6\n"
     ]
    },
    {
     "name": "stdout",
     "output_type": "stream",
     "text": [
      "[9, 6]\n"
     ]
    }
   ],
   "source": [
    "#Q6\n",
    "l2=[]\n",
    "for i in range(0,25):\n",
    "    c = int(input(\"enter no.\"))\n",
    "    if(c%3==0):\n",
    "        l2.append(c)\n",
    "print(l2)"
   ]
  },
  {
   "cell_type": "code",
   "execution_count": 29,
   "id": "10332b58-6ea0-4f3d-8300-77033a1655c7",
   "metadata": {},
   "outputs": [
    {
     "name": "stdout",
     "output_type": "stream",
     "text": [
      "[1, 2, 3, 'siddhant']\n"
     ]
    }
   ],
   "source": [
    "#Q7\n",
    "''' MUTABLE DATATYPE = These are the datatypes in which changes can be made and we can ressign the value and made the changes'''\n",
    "l3=[1,2,3,4]\n",
    "l3[-1] = \"siddhant\"\n",
    "print(l3)"
   ]
  },
  {
   "cell_type": "code",
   "execution_count": null,
   "id": "28350fdc-9153-45db-b2eb-e7a449376509",
   "metadata": {},
   "outputs": [],
   "source": [
    "''' IMMUTBALE DATATYPE = These are the datatypes in which changes can't be made .for ex - string,tuple etc'''\n",
    "tup1 = 9"
   ]
  }
 ],
 "metadata": {
  "kernelspec": {
   "display_name": "Python 3 (ipykernel)",
   "language": "python",
   "name": "python3"
  },
  "language_info": {
   "codemirror_mode": {
    "name": "ipython",
    "version": 3
   },
   "file_extension": ".py",
   "mimetype": "text/x-python",
   "name": "python",
   "nbconvert_exporter": "python",
   "pygments_lexer": "ipython3",
   "version": "3.10.8"
  }
 },
 "nbformat": 4,
 "nbformat_minor": 5
}
