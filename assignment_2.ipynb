{
 "cells": [
  {
   "cell_type": "raw",
   "id": "e4a8132a-f082-4710-9945-7c48d4ddc600",
   "metadata": {},
   "source": [
    "Q1 We can comment code in python by using hash symbol i.e \"#\"\n",
    "there are two types of comment single line comments and multiline comments.\n",
    "For SINGLE LINE we use one hash."
   ]
  },
  {
   "cell_type": "code",
   "execution_count": null,
   "id": "e83d75dc-da62-4d0e-9595-f8a1b72529bb",
   "metadata": {},
   "outputs": [],
   "source": [
    "# hellow world (it is a single line comments)\n",
    "## hellow \n",
    "## welcome to pw data science course (multiline comments)"
   ]
  },
  {
   "cell_type": "raw",
   "id": "8918035b-06f0-4f2e-a44e-00aca5ef5030",
   "metadata": {},
   "source": [
    "Q2 variable are the containers where we can store the value and use it for later referrences."
   ]
  },
  {
   "cell_type": "code",
   "execution_count": 1,
   "id": "baf4ce30-9113-4de9-acbc-837992550823",
   "metadata": {},
   "outputs": [
    {
     "data": {
      "text/plain": [
       "10"
      ]
     },
     "execution_count": 1,
     "metadata": {},
     "output_type": "execute_result"
    }
   ],
   "source": [
    "a = 10 ## assign the value 10 to the variable a\n",
    "a"
   ]
  },
  {
   "cell_type": "raw",
   "id": "a558eecb-844c-43f8-8bf1-76e6ea2a9de2",
   "metadata": {},
   "source": [
    "Q3 We can convert one datatype to another by using type casting "
   ]
  },
  {
   "cell_type": "code",
   "execution_count": 2,
   "id": "e660a733-836a-4815-a72f-1c80bf7a0e6c",
   "metadata": {},
   "outputs": [
    {
     "data": {
      "text/plain": [
       "str"
      ]
     },
     "execution_count": 2,
     "metadata": {},
     "output_type": "execute_result"
    }
   ],
   "source": [
    "a = '10' ## here 10 is a variable assigned to a\n",
    "type(a)"
   ]
  },
  {
   "cell_type": "code",
   "execution_count": 5,
   "id": "98babed8-6443-4290-b0be-f10ef9ed2d80",
   "metadata": {},
   "outputs": [
    {
     "data": {
      "text/plain": [
       "int"
      ]
     },
     "execution_count": 5,
     "metadata": {},
     "output_type": "execute_result"
    }
   ],
   "source": [
    "b = int(a)\n",
    "type(b)"
   ]
  },
  {
   "cell_type": "raw",
   "id": "24c74b95-a306-4242-a0f4-7f6adef5fe63",
   "metadata": {},
   "source": [
    "Q4 we can simply open command prompt and type commands type the word python followed by the path to your script file like this: python first_script.py Hello World! Then you hit the ENTER."
   ]
  },
  {
   "cell_type": "code",
   "execution_count": 6,
   "id": "0c9a710b-7e2b-406b-8414-c1120db4fc9d",
   "metadata": {},
   "outputs": [
    {
     "data": {
      "text/plain": [
       "[2, 3]"
      ]
     },
     "execution_count": 6,
     "metadata": {},
     "output_type": "execute_result"
    }
   ],
   "source": [
    "## Q5\n",
    "my_list = [1,2,3,4,5]\n",
    "my_list[1:3]"
   ]
  },
  {
   "cell_type": "raw",
   "id": "80d19905-4d95-4560-9c87-a019d4c044d3",
   "metadata": {},
   "source": [
    "Q6 Complex no. are the numbers that can be expressed in the form of x+iy where i is called iota ."
   ]
  },
  {
   "cell_type": "code",
   "execution_count": 8,
   "id": "162b2f75-59df-42f5-b9e1-57d43f6337cc",
   "metadata": {},
   "outputs": [
    {
     "data": {
      "text/plain": [
       "complex"
      ]
     },
     "execution_count": 8,
     "metadata": {},
     "output_type": "execute_result"
    }
   ],
   "source": [
    "a = 2 + 3j\n",
    "type(a)"
   ]
  },
  {
   "cell_type": "code",
   "execution_count": 9,
   "id": "fb308145-7891-4b69-a84b-c60aa263077e",
   "metadata": {},
   "outputs": [
    {
     "data": {
      "text/plain": [
       "25"
      ]
     },
     "execution_count": 9,
     "metadata": {},
     "output_type": "execute_result"
    }
   ],
   "source": [
    "## Q7\n",
    "age = 25\n",
    "age "
   ]
  },
  {
   "cell_type": "code",
   "execution_count": 10,
   "id": "76bad454-93e5-432f-8411-e46624925122",
   "metadata": {},
   "outputs": [
    {
     "data": {
      "text/plain": [
       "float"
      ]
     },
     "execution_count": 10,
     "metadata": {},
     "output_type": "execute_result"
    }
   ],
   "source": [
    "## Q8 \n",
    "price = 9.99\n",
    "## it belongs to float datatype\n",
    "type(price)"
   ]
  },
  {
   "cell_type": "code",
   "execution_count": 11,
   "id": "58664411-7906-4c47-a569-1e4cea17c2ee",
   "metadata": {},
   "outputs": [
    {
     "data": {
      "text/plain": [
       "'siddhant singh bhadauriya'"
      ]
     },
     "execution_count": 11,
     "metadata": {},
     "output_type": "execute_result"
    }
   ],
   "source": [
    "## Q9\n",
    "name = \"siddhant singh bhadauriya\"\n",
    "name"
   ]
  },
  {
   "cell_type": "code",
   "execution_count": 12,
   "id": "b3a7fd2a-a5ac-46da-a94d-be2b9af94bb7",
   "metadata": {},
   "outputs": [
    {
     "data": {
      "text/plain": [
       "'World'"
      ]
     },
     "execution_count": 12,
     "metadata": {},
     "output_type": "execute_result"
    }
   ],
   "source": [
    "## Q10\n",
    "str1 = \"Hello,World!\"\n",
    "str1[6:11]"
   ]
  },
  {
   "cell_type": "code",
   "execution_count": 13,
   "id": "a7a905fe-95cf-418a-8e08-76cd6c0e87de",
   "metadata": {},
   "outputs": [
    {
     "data": {
      "text/plain": [
       "bool"
      ]
     },
     "execution_count": 13,
     "metadata": {},
     "output_type": "execute_result"
    }
   ],
   "source": [
    "## Q11\n",
    "is_student = True \n",
    "type(is_student)"
   ]
  },
  {
   "cell_type": "code",
   "execution_count": null,
   "id": "7115a830-7b1e-4d0d-9a94-6425446f2fe1",
   "metadata": {},
   "outputs": [],
   "source": []
  }
 ],
 "metadata": {
  "kernelspec": {
   "display_name": "Python 3 (ipykernel)",
   "language": "python",
   "name": "python3"
  },
  "language_info": {
   "codemirror_mode": {
    "name": "ipython",
    "version": 3
   },
   "file_extension": ".py",
   "mimetype": "text/x-python",
   "name": "python",
   "nbconvert_exporter": "python",
   "pygments_lexer": "ipython3",
   "version": "3.10.8"
  }
 },
 "nbformat": 4,
 "nbformat_minor": 5
}
