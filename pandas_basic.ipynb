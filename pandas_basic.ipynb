{
 "cells": [
  {
   "cell_type": "code",
   "execution_count": 1,
   "id": "bfd894ff-cad8-4daa-8d59-6ab351261f0f",
   "metadata": {},
   "outputs": [],
   "source": [
    "import pandas as pd"
   ]
  },
  {
   "cell_type": "code",
   "execution_count": 3,
   "id": "86bb6cd9-2afc-492e-93e3-750fa973e6a2",
   "metadata": {},
   "outputs": [],
   "source": [
    "list1 = [4,8,15,16,23,42]\n",
    "list_1 = pd.Series(list1)"
   ]
  },
  {
   "cell_type": "code",
   "execution_count": 8,
   "id": "8b22e3dc-cd22-4e9f-b9c7-7a558ed3f7e3",
   "metadata": {},
   "outputs": [
    {
     "data": {
      "text/plain": [
       "0     4\n",
       "1     8\n",
       "2    15\n",
       "3    16\n",
       "4    23\n",
       "5    42\n",
       "dtype: int64"
      ]
     },
     "execution_count": 8,
     "metadata": {},
     "output_type": "execute_result"
    }
   ],
   "source": [
    "list_1"
   ]
  },
  {
   "cell_type": "code",
   "execution_count": 7,
   "id": "6e905305-a3a5-4bc6-8f69-27bdcacfff42",
   "metadata": {},
   "outputs": [
    {
     "data": {
      "text/plain": [
       "pandas.core.series.Series"
      ]
     },
     "execution_count": 7,
     "metadata": {},
     "output_type": "execute_result"
    }
   ],
   "source": [
    "type(list_1)"
   ]
  },
  {
   "cell_type": "markdown",
   "id": "f3e92067-a14e-4def-8ad1-18309d0287da",
   "metadata": {},
   "source": [
    "## Q2"
   ]
  },
  {
   "cell_type": "code",
   "execution_count": 9,
   "id": "994430d7-57ef-4bbb-bf3c-a48b8e8d850e",
   "metadata": {},
   "outputs": [],
   "source": [
    "a = [1,2,3,[4,5],\"siddhant\" , \"datascience\" , \"pwskills\",34.54,9,10]\n",
    "l_a = pd.Series(a)"
   ]
  },
  {
   "cell_type": "code",
   "execution_count": 10,
   "id": "02e34fb5-b4b6-4c45-a606-92cfca4ba6c6",
   "metadata": {},
   "outputs": [
    {
     "data": {
      "text/plain": [
       "0              1\n",
       "1              2\n",
       "2              3\n",
       "3         [4, 5]\n",
       "4       siddhant\n",
       "5    datascience\n",
       "6       pwskills\n",
       "7          34.54\n",
       "8              9\n",
       "9             10\n",
       "dtype: object"
      ]
     },
     "execution_count": 10,
     "metadata": {},
     "output_type": "execute_result"
    }
   ],
   "source": [
    "l_a"
   ]
  },
  {
   "cell_type": "code",
   "execution_count": 11,
   "id": "a247ca65-fb02-400b-bfa0-1d690d5904ea",
   "metadata": {},
   "outputs": [
    {
     "data": {
      "text/plain": [
       "pandas.core.series.Series"
      ]
     },
     "execution_count": 11,
     "metadata": {},
     "output_type": "execute_result"
    }
   ],
   "source": [
    "type(l_a)"
   ]
  },
  {
   "cell_type": "markdown",
   "id": "039ca564-ecf9-469c-8c3d-4a5dab2e5f39",
   "metadata": {},
   "source": [
    "## Q3"
   ]
  },
  {
   "cell_type": "code",
   "execution_count": 12,
   "id": "2b3ad825-8d1c-4cdd-8547-d09b8cb67c32",
   "metadata": {},
   "outputs": [],
   "source": [
    "l2 = {'name' : ['alice' , 'bob' , 'claire'],\n",
    "      'age' : [25,30,27],\n",
    "      'gender' : ['female' , 'male' , 'female']\n",
    "     }"
   ]
  },
  {
   "cell_type": "code",
   "execution_count": 25,
   "id": "cce91ce9-e2f5-4ff1-84aa-723676ed2bb7",
   "metadata": {},
   "outputs": [],
   "source": [
    "l_2 = pd.DataFrame(l2)"
   ]
  },
  {
   "cell_type": "code",
   "execution_count": 23,
   "id": "8644781c-2438-4146-83ab-0659f5dc6176",
   "metadata": {},
   "outputs": [
    {
     "data": {
      "text/html": [
       "<div>\n",
       "<style scoped>\n",
       "    .dataframe tbody tr th:only-of-type {\n",
       "        vertical-align: middle;\n",
       "    }\n",
       "\n",
       "    .dataframe tbody tr th {\n",
       "        vertical-align: top;\n",
       "    }\n",
       "\n",
       "    .dataframe thead th {\n",
       "        text-align: right;\n",
       "    }\n",
       "</style>\n",
       "<table border=\"1\" class=\"dataframe\">\n",
       "  <thead>\n",
       "    <tr style=\"text-align: right;\">\n",
       "      <th></th>\n",
       "      <th>name</th>\n",
       "      <th>age</th>\n",
       "      <th>gender</th>\n",
       "    </tr>\n",
       "  </thead>\n",
       "  <tbody>\n",
       "    <tr>\n",
       "      <th>0</th>\n",
       "      <td>alice</td>\n",
       "      <td>25</td>\n",
       "      <td>female</td>\n",
       "    </tr>\n",
       "    <tr>\n",
       "      <th>1</th>\n",
       "      <td>bob</td>\n",
       "      <td>30</td>\n",
       "      <td>male</td>\n",
       "    </tr>\n",
       "    <tr>\n",
       "      <th>2</th>\n",
       "      <td>claire</td>\n",
       "      <td>27</td>\n",
       "      <td>female</td>\n",
       "    </tr>\n",
       "  </tbody>\n",
       "</table>\n",
       "</div>"
      ],
      "text/plain": [
       "     name  age  gender\n",
       "0   alice   25  female\n",
       "1     bob   30    male\n",
       "2  claire   27  female"
      ]
     },
     "execution_count": 23,
     "metadata": {},
     "output_type": "execute_result"
    }
   ],
   "source": [
    "l_2"
   ]
  },
  {
   "cell_type": "code",
   "execution_count": 17,
   "id": "4666184d-9f33-4520-9a8b-b0881044e6a7",
   "metadata": {},
   "outputs": [
    {
     "data": {
      "text/plain": [
       "pandas.core.frame.DataFrame"
      ]
     },
     "execution_count": 17,
     "metadata": {},
     "output_type": "execute_result"
    }
   ],
   "source": [
    "type(l_2)"
   ]
  },
  {
   "cell_type": "markdown",
   "id": "e663224f-14ac-464f-8b6a-77a8da1eb28f",
   "metadata": {},
   "source": [
    "## Q4"
   ]
  },
  {
   "cell_type": "raw",
   "id": "0f53d0ad-1276-40bf-aead-6b98e90821e2",
   "metadata": {},
   "source": [
    "A pandas series is a 1D array of data and can have multiple datatypes while dataframe is a 2D table which can have one or more column.\n",
    "For data frame index can be optional while for series it has to be defined.\n",
    "for ex - l_2 is a tabular form while l_1 is in the series form."
   ]
  },
  {
   "cell_type": "markdown",
   "id": "b61915fa-bb0b-437c-a4a7-88e5ff28dae0",
   "metadata": {},
   "source": [
    "## Q5"
   ]
  },
  {
   "cell_type": "raw",
   "id": "fccea5dc-a9aa-4077-87cc-4121ca839c76",
   "metadata": {},
   "source": [
    "common functions are head ,tail, read_csv, read_excel, read_html."
   ]
  },
  {
   "cell_type": "code",
   "execution_count": 26,
   "id": "e9c91401-202c-4146-ac6f-57dc05b55cd8",
   "metadata": {},
   "outputs": [
    {
     "data": {
      "text/plain": [
       "<bound method NDFrame.head of      name  age  gender\n",
       "0   alice   25  female\n",
       "1     bob   30    male\n",
       "2  claire   27  female>"
      ]
     },
     "execution_count": 26,
     "metadata": {},
     "output_type": "execute_result"
    }
   ],
   "source": [
    "l_2.head"
   ]
  },
  {
   "cell_type": "code",
   "execution_count": 27,
   "id": "5a85ba44-cd37-4f7f-83e3-ff3b50b1e90f",
   "metadata": {},
   "outputs": [
    {
     "data": {
      "text/plain": [
       "<bound method NDFrame.tail of      name  age  gender\n",
       "0   alice   25  female\n",
       "1     bob   30    male\n",
       "2  claire   27  female>"
      ]
     },
     "execution_count": 27,
     "metadata": {},
     "output_type": "execute_result"
    }
   ],
   "source": [
    "l_2.tail"
   ]
  },
  {
   "cell_type": "markdown",
   "id": "c855746b-d13e-47fa-a54a-35941295a886",
   "metadata": {},
   "source": [
    "## Q6"
   ]
  },
  {
   "cell_type": "markdown",
   "id": "a2a7948c-aff9-46c3-b6c0-508153b98bb8",
   "metadata": {},
   "source": [
    "All Pandas data structures are value mutable (can be changed) and except Series all are size mutable. Series is size immutable"
   ]
  },
  {
   "cell_type": "markdown",
   "id": "2aceaa61-805e-4145-98c8-625d55539b98",
   "metadata": {},
   "source": [
    "## Q7"
   ]
  },
  {
   "cell_type": "code",
   "execution_count": 28,
   "id": "9621b561-25d6-4a76-b163-4bf7a8fb83ec",
   "metadata": {},
   "outputs": [],
   "source": [
    "courses = pd.Series([\"datascience\" ,\"web dev\" , \"java dsa\"])\n",
    "fees = pd.Series([3500,3000,4000])\n",
    "discount = pd.Series([500 ,0 ,1000])"
   ]
  },
  {
   "cell_type": "code",
   "execution_count": null,
   "id": "c5074021-1a2f-4e66-938e-cfa71044966f",
   "metadata": {},
   "outputs": [],
   "source": [
    "pd.concat([course])"
   ]
  }
 ],
 "metadata": {
  "kernelspec": {
   "display_name": "Python 3 (ipykernel)",
   "language": "python",
   "name": "python3"
  },
  "language_info": {
   "codemirror_mode": {
    "name": "ipython",
    "version": 3
   },
   "file_extension": ".py",
   "mimetype": "text/x-python",
   "name": "python",
   "nbconvert_exporter": "python",
   "pygments_lexer": "ipython3",
   "version": "3.10.8"
  }
 },
 "nbformat": 4,
 "nbformat_minor": 5
}
