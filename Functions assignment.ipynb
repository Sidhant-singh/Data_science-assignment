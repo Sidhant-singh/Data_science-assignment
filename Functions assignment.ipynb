{
 "cells": [
  {
   "cell_type": "code",
   "execution_count": null,
   "id": "589947c1-2699-4251-a869-e9fc1994abf7",
   "metadata": {},
   "outputs": [],
   "source": [
    "## Q1 \n",
    "## Define keyword i.e.(def) is used to create a function."
   ]
  },
  {
   "cell_type": "code",
   "execution_count": 1,
   "id": "0e9ffe12-e5c0-4102-a00b-d58493fc8d80",
   "metadata": {},
   "outputs": [],
   "source": [
    "def odd():\n",
    "    l1 = []\n",
    "    for i in range(26):\n",
    "        if (i%2) != 0:\n",
    "            l1.append(i)\n",
    "    return l1"
   ]
  },
  {
   "cell_type": "code",
   "execution_count": 2,
   "id": "da2536da-80a8-4736-b91c-35a56df74b03",
   "metadata": {},
   "outputs": [
    {
     "data": {
      "text/plain": [
       "[1, 3, 5, 7, 9, 11, 13, 15, 17, 19, 21, 23, 25]"
      ]
     },
     "execution_count": 2,
     "metadata": {},
     "output_type": "execute_result"
    }
   ],
   "source": [
    "odd()"
   ]
  },
  {
   "cell_type": "code",
   "execution_count": 3,
   "id": "5d5def73-07fa-47af-80dd-61ad59429052",
   "metadata": {},
   "outputs": [],
   "source": [
    "## Q2\n",
    "## *args = it is used to take multiple arguments at a time and used it efficiently\n",
    "## **kwargs = it is used to take multiple arguments in the from of keys and values and return  in form of dictionary."
   ]
  },
  {
   "cell_type": "code",
   "execution_count": 4,
   "id": "af8a234c-df97-4b8d-a1a7-7e605179f60d",
   "metadata": {},
   "outputs": [],
   "source": [
    "def test1(*args):\n",
    "    return args"
   ]
  },
  {
   "cell_type": "code",
   "execution_count": 5,
   "id": "9a12041e-0a6c-4055-a5da-57859b8eee40",
   "metadata": {},
   "outputs": [
    {
     "data": {
      "text/plain": [
       "([1, 2, 3, 4], 'pwskills', 'datascience', (7, 8, 9))"
      ]
     },
     "execution_count": 5,
     "metadata": {},
     "output_type": "execute_result"
    }
   ],
   "source": [
    "test1([1,2,3,4],\"pwskills\",\"datascience\",(7,8,9))"
   ]
  },
  {
   "cell_type": "code",
   "execution_count": 8,
   "id": "b44b3bd5-ef94-47b4-9417-713be15ef078",
   "metadata": {},
   "outputs": [],
   "source": [
    "def test2(**kwargs):\n",
    "    return kwargs"
   ]
  },
  {
   "cell_type": "code",
   "execution_count": 9,
   "id": "520c57a4-93da-43ae-b8b7-35534cbd446b",
   "metadata": {},
   "outputs": [
    {
     "data": {
      "text/plain": [
       "{'a': 22, 'b': 2004, 'c': [1, 2, 3], 'd': (1, 2, 3)}"
      ]
     },
     "execution_count": 9,
     "metadata": {},
     "output_type": "execute_result"
    }
   ],
   "source": [
    "test2(a = 22 , b = 2004 ,c =[1,2,3] , d= (1,2,3))"
   ]
  },
  {
   "cell_type": "code",
   "execution_count": 16,
   "id": "8f41c663-84e6-45b1-913f-8dce62b43b15",
   "metadata": {},
   "outputs": [
    {
     "name": "stdout",
     "output_type": "stream",
     "text": [
      "2\n",
      "4\n",
      "6\n",
      "8\n",
      "10\n"
     ]
    }
   ],
   "source": [
    "##Q3 \n",
    "## Iterator in python simply means aceessing each and every element of a dataype.\n",
    "## range method helps us to iterate object \n",
    "l = [2,4,6,8,10,12,14,16,18,20]\n",
    "for i in range(0,5):\n",
    "    print(l[i])"
   ]
  },
  {
   "cell_type": "code",
   "execution_count": 20,
   "id": "86e1c83f-f840-4594-9dfb-8e1b5af39f3e",
   "metadata": {},
   "outputs": [],
   "source": [
    "## Q4 \n",
    "## Generator function helps to iterate through given datatype give the results one by one without storing in a particular memory location. It helps in utilising memory in optimised way.\n",
    "## Yield keyword used to fetch the data without storing in a particular memory location.\n",
    "## multiples of 3\n",
    "def mul3(a):\n",
    "    for i in range(1,a):\n",
    "        yield i*3        "
   ]
  },
  {
   "cell_type": "code",
   "execution_count": 21,
   "id": "d4c9f04e-e1a3-4b7e-a41a-7b74fb774425",
   "metadata": {},
   "outputs": [
    {
     "data": {
      "text/plain": [
       "[3, 6, 9, 12, 15, 18]"
      ]
     },
     "execution_count": 21,
     "metadata": {},
     "output_type": "execute_result"
    }
   ],
   "source": [
    "list(mul3(7))"
   ]
  },
  {
   "cell_type": "code",
   "execution_count": null,
   "id": "e0042f5c-2d7d-4a7a-881d-f3c69b58a901",
   "metadata": {},
   "outputs": [],
   "source": [
    "def prime():\n",
    "    for i in range(1,1001):\n",
    "        for j in range(2,i):\n",
    "            if (i%j) == 0:\n",
    "                break\n",
    "            else:\n",
    "                yield i"
   ]
  },
  {
   "cell_type": "code",
   "execution_count": null,
   "id": "1609d618-4ab0-43dc-afed-cbfe34ba8af3",
   "metadata": {},
   "outputs": [],
   "source": [
    "for i in prime():\n",
    "    print(i)"
   ]
  },
  {
   "cell_type": "code",
   "execution_count": null,
   "id": "ca3eb47e-c511-4db7-ad52-04e4f1b51989",
   "metadata": {},
   "outputs": [],
   "source": []
  },
  {
   "cell_type": "code",
   "execution_count": null,
   "id": "6abbde7d-8ffc-4051-83a3-fdfe6521d989",
   "metadata": {},
   "outputs": [],
   "source": []
  }
 ],
 "metadata": {
  "kernelspec": {
   "display_name": "Python 3 (ipykernel)",
   "language": "python",
   "name": "python3"
  },
  "language_info": {
   "codemirror_mode": {
    "name": "ipython",
    "version": 3
   },
   "file_extension": ".py",
   "mimetype": "text/x-python",
   "name": "python",
   "nbconvert_exporter": "python",
   "pygments_lexer": "ipython3",
   "version": "3.10.8"
  }
 },
 "nbformat": 4,
 "nbformat_minor": 5
}
