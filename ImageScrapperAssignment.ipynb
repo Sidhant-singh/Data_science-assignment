{
 "cells": [
  {
   "cell_type": "code",
   "execution_count": 4,
   "metadata": {},
   "outputs": [
    {
     "name": "stdout",
     "output_type": "stream",
     "text": [
      "Unable to scrape data.\n"
     ]
    }
   ],
   "source": [
    "#pip install beautifulsoup4\n",
    "import requests\n",
    "from bs4 import BeautifulSoup\n",
    "import csv\n",
    "\n",
    "# Function to scrape video data\n",
    "def scrape_video_data():\n",
    "    url = \"https://www.youtube.com/@PW-Foundation/videos\"\n",
    "    response = requests.get(url)\n",
    "    \n",
    "    if response.status_code == 200:\n",
    "        soup = BeautifulSoup(response.text, 'html.parser')\n",
    "        videos = soup.find_all('a', class_='yt-simple-endpoint style-scope ytd-grid-video-renderer')\n",
    "\n",
    "        data = []\n",
    "        for video in videos[:5]:\n",
    "            video_url = \"https://www.youtube.com\" + video['href']\n",
    "            thumbnail_url = video.find('img')['src']\n",
    "            title = video.find('span', {'class': 'style-scope ytd-grid-video-renderer'}).text\n",
    "            views = video.find('span', {'class': 'style-scope ytd-grid-video-renderer'}).text\n",
    "            post_time = video.find('span', {'class': 'style-scope ytd-grid-video-renderer'}).text\n",
    "\n",
    "            data.append([video_url, thumbnail_url, title, views, post_time])\n",
    "\n",
    "        return data\n",
    "    else:\n",
    "        print(\"Error accessing the website.\")\n",
    "        return None\n",
    "    \n",
    "# Function to save data to CSV file\n",
    "def save_to_csv(data, filename='video_data.csv'):\n",
    "    with open(filename, 'w', newline='', encoding='utf-8') as file:\n",
    "        writer = csv.writer(file)\n",
    "        writer.writerow(['Video URL', 'Thumbnail URL', 'Title', 'Views', 'Post Time'])\n",
    "        writer.writerows(data)\n",
    "\n",
    "# Main function\n",
    "if __name__ == \"__main__\":\n",
    "    video_data = scrape_video_data()\n",
    "\n",
    "    if video_data:\n",
    "        save_to_csv(video_data)\n",
    "        print(\"Data scraped and saved to 'video_data.csv'\")\n",
    "    else:\n",
    "        print(\"Unable to scrape data.\")"
   ]
  },
  {
   "cell_type": "code",
   "execution_count": null,
   "metadata": {},
   "outputs": [],
   "source": []
  }
 ],
 "metadata": {
  "kernelspec": {
   "display_name": "Python 3",
   "language": "python",
   "name": "python3"
  },
  "language_info": {
   "codemirror_mode": {
    "name": "ipython",
    "version": 3
   },
   "file_extension": ".py",
   "mimetype": "text/x-python",
   "name": "python",
   "nbconvert_exporter": "python",
   "pygments_lexer": "ipython3",
   "version": "3.11.5"
  }
 },
 "nbformat": 4,
 "nbformat_minor": 2
}
